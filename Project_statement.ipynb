{
 "cells": [
  {
   "cell_type": "markdown",
   "id": "452fb4f1",
   "metadata": {},
   "source": [
    "# Instructions"
   ]
  },
  {
   "cell_type": "markdown",
   "id": "c5bea9e9",
   "metadata": {},
   "source": [
    "In this challenge you must analyze demographic data using Pandas. You are given a dataset of demographic data that was extracted from the 1994 Census database. Here is a sample of what the data looks like:\n",
    "\n",
    "|    |   age | workclass        |   fnlwgt | education   |   education-num | marital-status     | occupation        | relationship   | race   | sex    |   capital-gain |   capital-loss |   hours-per-week | native-country   | salary   |\n",
    "|---:|------:|:-----------------|---------:|:------------|----------------:|:-------------------|:------------------|:---------------|:-------|:-------|---------------:|---------------:|-----------------:|:-----------------|:---------|\n",
    "|  0 |    39 | State-gov        |    77516 | Bachelors   |              13 | Never-married      | Adm-clerical      | Not-in-family  | White  | Male   |           2174 |              0 |               40 | United-States    | <=50K    |\n",
    "|  1 |    50 | Self-emp-not-inc |    83311 | Bachelors   |              13 | Married-civ-spouse | Exec-managerial   | Husband        | White  | Male   |              0 |              0 |               13 | United-States    | <=50K    |\n",
    "|  2 |    38 | Private          |   215646 | HS-grad     |               9 | Divorced           | Handlers-cleaners | Not-in-family  | White  | Male   |              0 |              0 |               40 | United-States    | <=50K    |\n",
    "|  3 |    53 | Private          |   234721 | 11th        |               7 | Married-civ-spouse | Handlers-cleaners | Husband        | Black  | Male   |              0 |              0 |               40 | United-States    | <=50K    |\n",
    "|  4 |    28 | Private          |   338409 | Bachelors   |              13 | Married-civ-spouse | Prof-specialty    | Wife           | Black  | Female |              0 |              0 |               40 | Cuba             | <=50K    |\n",
    "\n",
    "You must use Pandas to answer the following questions:\n",
    "\n",
    "- How many people of each race are represented in this dataset? This should be a Pandas series with race names as the index labels. (race column)\n",
    "- What is the average age of men?\n",
    "- What is the percentage of people who have a Bachelor's degree?\n",
    "- What percentage of people with advanced education (Bachelors, Masters, or Doctorate) make more than 50K?\n",
    "- What percentage of people without advanced education make more than 50K?\n",
    "- What is the minimum number of hours a person works per week?\n",
    "- What percentage of the people who work the minimum number of hours per week have a salary of more than 50K?\n",
    "- What country has the highest percentage of people that earn >50K and what is that percentage?\n",
    "- Identify the most popular occupation for those who earn >50K in India.\n",
    "Use the starter code in the file demographic_data_analyzer. Update the code so all variables set to \"None\" are set to the appropriate calculation or code. Round all decimals to the nearest tenth.\n",
    "\n",
    "Unit tests are written for you under test_module.py.\n",
    "\n",
    "## Development\n",
    "For development, you can use main.py to test your functions. Click the \"run\" button and main.py will run.\n",
    "\n",
    "## Testing\n",
    "We imported the tests from test_module.py to main.py for your convenience. The tests will run automatically whenever you hit the \"run\" button.\n",
    "\n",
    "## Submitting\n",
    "Copy your project's URL and submit it to freeCodeCamp.\n",
    "\n",
    "## Dataset Source\n",
    "Dua, D. and Graff, C. (2019). UCI Machine Learning Repository. Irvine, CA: University of California, School of Information and Computer Science.\n",
    "\n"
   ]
  },
  {
   "cell_type": "code",
   "execution_count": null,
   "id": "e4361e7a",
   "metadata": {},
   "outputs": [],
   "source": []
  }
 ],
 "metadata": {
  "kernelspec": {
   "display_name": "Python 3 (ipykernel)",
   "language": "python",
   "name": "python3"
  },
  "language_info": {
   "codemirror_mode": {
    "name": "ipython",
    "version": 3
   },
   "file_extension": ".py",
   "mimetype": "text/x-python",
   "name": "python",
   "nbconvert_exporter": "python",
   "pygments_lexer": "ipython3",
   "version": "3.9.1"
  }
 },
 "nbformat": 4,
 "nbformat_minor": 5
}
